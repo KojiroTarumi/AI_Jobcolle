{
 "cells": [
  {
   "cell_type": "markdown",
   "metadata": {},
   "source": [
    "# WORK for P01"
   ]
  },
  {
   "cell_type": "markdown",
   "metadata": {},
   "source": [
    "## [Work-1]\n",
    "以下にクライアントから質問されている場面をイメージし、簡潔な答えを用意して下さい。\n",
    "- 機械学習とは何か？\n",
    "- 機械学習を分類するとどうなるか？\n",
    "- 教師あり学習と教師なし学習の違いは何か？\n",
    "- 精度の高いモデル構築には何が大切か？\n",
    "- AML（Automated Machine Learning）とはどのようなものか？\n",
    "- Pythonでデータ読込やデータフレーム処理を担うライブラリは何か？\n",
    "- 特徴量とは何か、正解データとは何か？"
   ]
  },
  {
   "cell_type": "markdown",
   "metadata": {},
   "source": [
    "### (1) 機械学習とは何か？\n",
    "\n",
    "- 機械学習 (Machine Learning) はAIの一手法\n",
    "- 人間が学習で行うプロセスを機械に行わせる方法\n",
    "- 入力 x (統計、画像、音声データ等)と出力 y (回答データ)の関係性(規則性)を見つけ、答えの予測を行う\n",
    "- 機械学習は持っているデータの中(内挿：Interpolation)でしか予測できない"
   ]
  },
  {
   "cell_type": "markdown",
   "metadata": {},
   "source": [
    "### (2) 機械学習を分類するとどうなるか？\n",
    "\n",
    "- 教師あり学習 (Supervised Learning)\n",
    "- 教師なし学習 (Unsupervised Learning)\n",
    "- 強化学習 (Re-inforcement Learning)"
   ]
  },
  {
   "cell_type": "markdown",
   "metadata": {},
   "source": [
    "### (3) 教師あり学習と教師なし学習の違いは何か？\n",
    "\n",
    "#### 教師あり学習\n",
    "\n",
    "2つの方法が存在\n",
    "\n",
    "- 回帰 ： 数値を予測 \n",
    "\n",
    "【例1】：入力データ（部屋の広さ、駅からの距離、治安etc.）→出力データ(家賃)\n",
    "\n",
    "【例2】：入力データ（過去の株価変動のデータ）→出力データ(株価)\n",
    "\n",
    "- 分類 ： カテゴリを予測 \n",
    "\n",
    "【例1】：入力データ（葡萄の種類、産地、生産地の気候、味(酸味、甘み等)etc.）→出力データ(赤ワイン or 白ワイン)\n",
    "\n",
    "【例2】：入力データ（視聴した動画の種類、頻度、時間etc.）→出力データ(動画サブスクリプションサービスの解約者)\n",
    "\n",
    "#### 教師なし学習\n",
    "\n",
    "教師あり学習では、入力 x (統計、画像、音声データ等)と出力 y (回答データ)の関係性から予測アルゴリズムを作るが、\n",
    "\n",
    "教師なし学習は回答データが存在しない。データの構造(パターン)を見える化するために使う方法"
   ]
  },
  {
   "cell_type": "markdown",
   "metadata": {},
   "source": [
    "### (4) 精度の高いモデル構築には何が大切か？\n",
    "\n",
    "- 機械学習を行う前段階（データの前処理: Data Cleansing）をしっかり行う必要がある\n",
    "\n",
    "【データの前処理のカテゴリを下記URLから抜粋】　ひどい英語なので注意！\n",
    "\n",
    "https://qiita.com/daisuke-team-ai/items/1e31e68e6fcf61ddd52d#%E3%83%87%E3%83%BC%E3%82%BF%E3%82%AF%E3%83%AA%E3%83%BC%E3%83%8B%E3%83%B3%E3%82%B0\n",
    "\n",
    "https://viblo.asia/p/data-preprocessing-and-data-wrangling-in-machine-learning-and-deep-learning-Qpmlenrk5rd\n",
    "\n",
    "#### データクリーニングData Cleaning\n",
    "\n",
    "欠落データ、ノイズデータの検出、外れ値の除去、データ重複を最小化し、そしてデータの偏りを処理する\n",
    "\n",
    "#### データ統合 Data Integration\n",
    "\n",
    "様々なデータソースからデータを収集し、結合して一貫性のあるデータを形成する\n",
    "\n",
    "#### データ変換 Data Transformation\n",
    "\n",
    "必要なモデルに適合するよう、生データを指定されたフォーマットに変換する\n",
    "\n",
    "#### 正規化 Normalization\n",
    "\n",
    "データスケーリングを実行できるように数値データを指定された範囲、つまり0と1の間に変換する\n",
    "\n",
    "#### 集約 Aggregation\n",
    "\n",
    "データを1つに結合させる\n",
    "\n",
    "例えば、2つのカテゴリーを組み合わせて新しいカテゴリーを形成する\n",
    "\n",
    "#### 一般化 Generalization\n",
    "\n",
    "低レベルの属性を高レベルに変換する　？？\n",
    "\n",
    "一般化線形モデル(GLM)Generalized linear modelについて話してる？\n",
    "\n",
    "#### データ削減 Data Reduction\n",
    "\n",
    "データ変換後、重複データのスケーリング\n",
    "\n",
    "冗長なデータを除去し、データを効率的に整理する"
   ]
  },
  {
   "cell_type": "markdown",
   "metadata": {},
   "source": [
    "### (5) AML（Automated Machine Learning）とはどのようなものか？\n",
    "\n",
    "これまで予測パフォーマンスの最大化を目的として専門家、熟練者が行ってきた\n",
    "\n",
    "前処理、特徴量抽出、特徴量選択、モデル選択を機械が自動化する\n",
    "\n",
    "【参考】\n",
    "\n",
    "https://qiita.com/allazward/items/cb95c35d42f4866b9ceb"
   ]
  },
  {
   "cell_type": "markdown",
   "metadata": {},
   "source": [
    "### (6) Pythonでデータ読込やデータフレーム処理を担うライブラリは何か？\n",
    "\n",
    "pandas"
   ]
  },
  {
   "cell_type": "markdown",
   "metadata": {},
   "source": [
    "### (7) 特徴量（Attribute or Feature）とは何か、正解データとは何か？\n",
    "\n",
    "- 特徴量\n",
    "\n",
    "簡単に言うとカラムのこと\n",
    "\n",
    "例）身体測定 →　年齢、身長、体重、視力、血圧 etc...\n",
    "\n",
    "- 正解データ\n",
    "\n",
    "別名：教師データ\n",
    "\n",
    "教師あり学習で回答となるデータのこと"
   ]
  },
  {
   "cell_type": "markdown",
   "metadata": {},
   "source": [
    "## [Work-2]\n",
    "プロダクト研究（機械学習サービスの提供価値の実際）として、DataRobotに関する以下の資料にまずは目を通してみて下さい。\n",
    "- DataRobot_1.pdf\n",
    "- DataRobot_2_DataRobot-2_JCR17_LS2B_NSSOL_DL_v3.pdf\n",
    "- https://www.datarobot.com/blog/a-new-frontier-how-machine-learning-explanations-will-improve-your-business/\n",
    "\n",
    "以下についての自分なりの回答を準備しておきましょう（クライアントに問い合わせをされて、30秒以内に回答するイメージで）。\n",
    "- DataRobotは誰をターゲットとした商品か？（顧客は誰か）\n",
    "- DataRobotの提供価値は何か？（顧客のベネフィットは何か）\n",
    "- DataRobotにあるリーズンコードとは何か？"
   ]
  },
  {
   "cell_type": "markdown",
   "metadata": {},
   "source": [
    "### (1) DataRobotは誰をターゲットとした商品か？（顧客は誰か）\n",
    "\n",
    "- マーケティング (キャンペーンの効果予測)\n",
    "- 金融　(ローンの与信)\n",
    "- リクルーティング (応募者の選定)\n",
    "- ヘルスケア　(患者の再入院予測)\n",
    "- 保険　(価格モデル)\n",
    "- スポーツ (選手のパフォーマンス)\n",
    "- エネルギー事業 (電気価格の推移)\n",
    "- 小売業 (売上予測、在庫最適化)\n",
    "- 製造業　(生産設備の自動診断)"
   ]
  },
  {
   "cell_type": "markdown",
   "metadata": {},
   "source": [
    "### (2) DataRobotの提供価値は何か？（顧客のベネフィットは何か）\n",
    "\n",
    "- 予測モデル、分析システムの構築を短時間にすることが可能\n",
    "\n",
    "- 分析の煩雑な作業がないため様々な分析が手軽に色々試すことができる\n",
    "\n",
    "- データサイエンティスト等のエキスパートがやっていた事を他の人もできるようになる"
   ]
  },
  {
   "cell_type": "markdown",
   "metadata": {},
   "source": [
    "### (3) DataRobotにあるリーズンコードとは何か？\n",
    "\n"
   ]
  },
  {
   "cell_type": "markdown",
   "metadata": {},
   "source": [
    "【URLより抜粋】\n",
    "\n",
    "Reason Codes, introduced in the latest update to the DataRobot platform, provide clear explanations for every prediction in a way \n",
    "\n",
    "that most data scientists never imagined possible. The result is greater than the sum of its parts.\n",
    "\n",
    "データロボット社のプラットフォームの最新のアップデートが紹介するリーズンコードは、\n",
    "\n",
    "多くのデータサイエンティストが想像できない方法で全ての予測を明確に説明します。\n",
    "\n",
    "これは単体の集合より、遥かに優れた結果をもたらします！（あなたの想像より優れた結果がでるでしょう）"
   ]
  },
  {
   "cell_type": "markdown",
   "metadata": {},
   "source": [
    "- 予測の説明\n",
    "https://www.datarobot.com/jp/wiki/prediction-explainations/\n",
    "\n",
    "- AI研究における「ブラックボックス問題」とは何か\n",
    "https://forbesjapan.com/articles/detail/19698\n",
    "\n",
    "- AIは、その思考プロセスが人間には分からない「ブラックボックス」があり、どうしてその結果になったか、人間には追えない問題がある。\n",
    "\n",
    "- （計算する次元の数が人間と異なるため）\n",
    "\n",
    "- リーズンコードは、モデルの予測に与えた効果が最も大きい属性または変数が分かる\n",
    "\n",
    "- 個々の予測について主な理由を 1 から 10 まで並べた番号付きリストとして説明可能\n",
    "\n",
    "- このリストには、その予測の各特徴量の値についての情報や、その特徴量の影響の大きさ、最終的な予測にプラス、マイナスどちらの影響を与えるのかといった情報も含まれる"
   ]
  }
 ],
 "metadata": {
  "kernelspec": {
   "display_name": "Python 3",
   "language": "python",
   "name": "python3"
  },
  "language_info": {
   "codemirror_mode": {
    "name": "ipython",
    "version": 3
   },
   "file_extension": ".py",
   "mimetype": "text/x-python",
   "name": "python",
   "nbconvert_exporter": "python",
   "pygments_lexer": "ipython3",
   "version": "3.7.2"
  }
 },
 "nbformat": 4,
 "nbformat_minor": 2
}
